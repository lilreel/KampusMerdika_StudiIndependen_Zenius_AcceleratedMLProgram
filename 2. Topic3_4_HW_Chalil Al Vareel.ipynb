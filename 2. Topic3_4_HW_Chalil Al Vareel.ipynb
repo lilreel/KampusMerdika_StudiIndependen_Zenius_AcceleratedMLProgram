{
  "nbformat": 4,
  "nbformat_minor": 0,
  "metadata": {
    "colab": {
      "provenance": [],
      "collapsed_sections": [
        "-5VyBao5x9Fu",
        "f6LjKU50-tD8",
        "MPuR878HZEbx",
        "6AqPfAS7a1Oi",
        "G-HHsg4la6mJ",
        "Kfkq-SmIdJR6"
      ],
      "toc_visible": true
    },
    "kernelspec": {
      "name": "python3",
      "display_name": "Python 3"
    },
    "language_info": {
      "name": "python"
    },
    "accelerator": "GPU"
  },
  "cells": [
    {
      "cell_type": "markdown",
      "source": [
        "#PR Tahun Kabisat Kak Karissa"
      ],
      "metadata": {
        "id": "-5VyBao5x9Fu"
      }
    },
    {
      "cell_type": "code",
      "source": [
        "def tahun_kabisat(x):\n",
        "  moduled_by_400 = (x % 400 is 0)\n",
        "  moduled_by_100 = (x % 100 is 0)\n",
        "  moduled_by_4 = (x % 4 is 0)\n",
        "\n",
        "  if moduled_by_400 : \n",
        "    return (x, \" Merupakan Tahun Kabisat\")\n",
        "  elif moduled_by_400 is False:\n",
        "    if moduled_by_100 :\n",
        "      return (x, \" bukan Tahun Kabisat\")\n",
        "    elif moduled_by_100 is False:\n",
        "      if moduled_by_4 :\n",
        "        return (x, \" Merupakan Tahun Kabisat\")\n",
        "      else :\n",
        "        return (x, \"bukan Tahun Kabisat\")"
      ],
      "metadata": {
        "id": "Sd2Zqx2fyG02"
      },
      "execution_count": null,
      "outputs": []
    },
    {
      "cell_type": "code",
      "source": [
        "tahun_kabisat(1200)"
      ],
      "metadata": {
        "colab": {
          "base_uri": "https://localhost:8080/"
        },
        "id": "Vukoscn13WQ6",
        "outputId": "14913140-1cf4-46c7-885d-7dc132516535"
      },
      "execution_count": null,
      "outputs": [
        {
          "output_type": "execute_result",
          "data": {
            "text/plain": [
              "(1200, ' Merupakan Tahun Kabisat')"
            ]
          },
          "metadata": {},
          "execution_count": 21
        }
      ]
    },
    {
      "cell_type": "code",
      "source": [
        "tahun_kabisat(900)"
      ],
      "metadata": {
        "colab": {
          "base_uri": "https://localhost:8080/"
        },
        "id": "dxstdRWj3hll",
        "outputId": "c6a52d0b-42c2-47e2-f9ce-b0b7c1bf4f5d"
      },
      "execution_count": null,
      "outputs": [
        {
          "output_type": "execute_result",
          "data": {
            "text/plain": [
              "(900, ' bukan Tahun Kabisat')"
            ]
          },
          "metadata": {},
          "execution_count": 22
        }
      ]
    },
    {
      "cell_type": "code",
      "source": [
        "tahun_kabisat(1324)"
      ],
      "metadata": {
        "colab": {
          "base_uri": "https://localhost:8080/"
        },
        "id": "W9Z10yOQ3hiE",
        "outputId": "5e6b8dd8-2205-4614-82fa-be23746558d1"
      },
      "execution_count": null,
      "outputs": [
        {
          "output_type": "execute_result",
          "data": {
            "text/plain": [
              "(1324, ' Merupakan Tahun Kabisat')"
            ]
          },
          "metadata": {},
          "execution_count": 23
        }
      ]
    },
    {
      "cell_type": "code",
      "source": [
        "tahun_kabisat(1335)"
      ],
      "metadata": {
        "colab": {
          "base_uri": "https://localhost:8080/"
        },
        "id": "9zhR_GqJ3RyB",
        "outputId": "8220fa42-1c6d-49a6-dad8-cbf95953e184"
      },
      "execution_count": null,
      "outputs": [
        {
          "output_type": "execute_result",
          "data": {
            "text/plain": [
              "(1335, 'bukan Tahun Kabisat')"
            ]
          },
          "metadata": {},
          "execution_count": 24
        }
      ]
    },
    {
      "cell_type": "markdown",
      "source": [
        "#Topic 3 - Python Structure & Data Type Assignment\n",
        "\n",
        "---\n",
        "\n",
        "\n"
      ],
      "metadata": {
        "id": "f6LjKU50-tD8"
      }
    },
    {
      "cell_type": "markdown",
      "source": [
        "## Data Type Declaration"
      ],
      "metadata": {
        "id": "MPuR878HZEbx"
      }
    },
    {
      "cell_type": "markdown",
      "source": [
        "1. > Create an empty variable (Points : 5)"
      ],
      "metadata": {
        "id": "GyS5I54D-3K9"
      }
    },
    {
      "cell_type": "code",
      "source": [
        "x = None"
      ],
      "metadata": {
        "id": "jehesBY-_aKL"
      },
      "execution_count": null,
      "outputs": []
    },
    {
      "cell_type": "markdown",
      "source": [
        "2. > Create a variable containing your name (Points : 5)"
      ],
      "metadata": {
        "id": "6zCz3qZ8_bu2"
      }
    },
    {
      "cell_type": "code",
      "source": [
        "name= \"Chalil Al Vareel\""
      ],
      "metadata": {
        "id": "1wT8jnI6_f-U"
      },
      "execution_count": null,
      "outputs": []
    },
    {
      "cell_type": "markdown",
      "source": [
        "3. > Create a list of 5 items you can find in the classroom (Points : 5)"
      ],
      "metadata": {
        "id": "ApatE8m__2Ud"
      }
    },
    {
      "cell_type": "code",
      "source": [
        "class_room = [\"Table\", \"Chair\", \"Ruller\", \"Whiteboard\", \"Students\", \"Teacher\"]"
      ],
      "metadata": {
        "id": "-Q0Ynqx1_6hF"
      },
      "execution_count": null,
      "outputs": []
    },
    {
      "cell_type": "markdown",
      "source": [
        "4. > Create a dictionary containing 2 keys and value (Points : 5)"
      ],
      "metadata": {
        "id": "6FwMmy_9AS5N"
      }
    },
    {
      "cell_type": "code",
      "source": [
        "ibukota_provinsi = {\n",
        "    \"aceh\" : \"Banda Aceh\",\n",
        "    \"sumut\" : \"Medan\"}"
      ],
      "metadata": {
        "id": "xLc2AlhtASOm"
      },
      "execution_count": null,
      "outputs": []
    },
    {
      "cell_type": "markdown",
      "source": [
        "## Basic Data Operation"
      ],
      "metadata": {
        "id": "6AqPfAS7a1Oi"
      }
    },
    {
      "cell_type": "markdown",
      "source": [
        "You sold 20 pieces of electronics at the price of 12000. The customer gets a total discount of 10%.\n",
        "\n",
        "Below are those variables:\n",
        "\n",
        "1.   price=12000\n",
        "2.   quantity_sold=20\n",
        "3.   discount=10%\n",
        "\n",
        "\n",
        "Using Python code, write the code the find the total money that the customer to pay. (Points : 15)"
      ],
      "metadata": {
        "id": "-ZZF1cXlbqkJ"
      }
    },
    {
      "cell_type": "code",
      "source": [
        "price = 12000\n",
        "quantity_sold = 20\n",
        "discount = 0.1 #10% \n",
        "\n",
        "total = (price*(1-discount))*quantity_sold\n",
        "print(total)"
      ],
      "metadata": {
        "id": "90T0A2HvbcCK",
        "colab": {
          "base_uri": "https://localhost:8080/"
        },
        "outputId": "a56466a8-d7c5-4a40-d859-a257ae700b59"
      },
      "execution_count": null,
      "outputs": [
        {
          "output_type": "stream",
          "name": "stdout",
          "text": [
            "216000.0\n"
          ]
        }
      ]
    },
    {
      "cell_type": "markdown",
      "source": [
        "## List Data Operation"
      ],
      "metadata": {
        "id": "G-HHsg4la6mJ"
      }
    },
    {
      "cell_type": "markdown",
      "source": [
        "5. > Follow the instructions in the code blocks\n",
        "\n",
        "\n",
        "\n"
      ],
      "metadata": {
        "id": "NdoSjVZ4Zbqg"
      }
    },
    {
      "cell_type": "code",
      "source": [
        "# Create list of countries in the world (total 7 countries) (Points : 5)\n",
        "\n",
        "country_list = [\"USA\", \"UK\", \"Ireland\", \"Spain\", \"Cyprus\", \"France\", \"Kosovo\", \"Portugal\", \"Germany\", \"Switzerland\"]"
      ],
      "metadata": {
        "id": "xsFxlZGLaQ7y"
      },
      "execution_count": null,
      "outputs": []
    },
    {
      "cell_type": "code",
      "source": [
        "# Get 4 countries from the first index of the list (Points : 5)\n",
        "\n",
        "print(country_list[:4])\n",
        "#or\n",
        "country_list[:4]"
      ],
      "metadata": {
        "id": "6Se125DabJ6R",
        "colab": {
          "base_uri": "https://localhost:8080/"
        },
        "outputId": "900a3f20-df01-4eff-9258-a98fe2d5da08"
      },
      "execution_count": null,
      "outputs": [
        {
          "output_type": "stream",
          "name": "stdout",
          "text": [
            "['USA', 'UK', 'Ireland', 'Spain']\n"
          ]
        },
        {
          "output_type": "execute_result",
          "data": {
            "text/plain": [
              "['USA', 'UK', 'Ireland', 'Spain']"
            ]
          },
          "metadata": {},
          "execution_count": 31
        }
      ]
    },
    {
      "cell_type": "code",
      "source": [
        "# Append new country to the list (Points : 5)\n",
        "\n",
        "country_list.append(\"Turkey\")\n",
        "country_list"
      ],
      "metadata": {
        "id": "FSU5QfExbKAh",
        "colab": {
          "base_uri": "https://localhost:8080/"
        },
        "outputId": "53a3e6fa-acd2-4084-e5dc-569a612010e0"
      },
      "execution_count": null,
      "outputs": [
        {
          "output_type": "execute_result",
          "data": {
            "text/plain": [
              "['USA',\n",
              " 'UK',\n",
              " 'Ireland',\n",
              " 'Spain',\n",
              " 'Cyprus',\n",
              " 'France',\n",
              " 'Kosovo',\n",
              " 'Portugal',\n",
              " 'Germany',\n",
              " 'Switzerland',\n",
              " 'Turkey']"
            ]
          },
          "metadata": {},
          "execution_count": 32
        }
      ]
    },
    {
      "cell_type": "code",
      "source": [
        "# Drop one country from the list (Points : 5)\n",
        "\n",
        "country_list.pop(0)\n",
        "country_list"
      ],
      "metadata": {
        "id": "DlvXbKlnbKGR",
        "colab": {
          "base_uri": "https://localhost:8080/"
        },
        "outputId": "d9b5f757-e33a-4de8-8879-7e784c632ebf"
      },
      "execution_count": null,
      "outputs": [
        {
          "output_type": "execute_result",
          "data": {
            "text/plain": [
              "['UK',\n",
              " 'Ireland',\n",
              " 'Spain',\n",
              " 'Cyprus',\n",
              " 'France',\n",
              " 'Kosovo',\n",
              " 'Portugal',\n",
              " 'Germany',\n",
              " 'Switzerland',\n",
              " 'Turkey']"
            ]
          },
          "metadata": {},
          "execution_count": 33
        }
      ]
    },
    {
      "cell_type": "code",
      "source": [
        "# Get country in the last index (Points : 5)\n",
        "\n",
        "country_list[-1]"
      ],
      "metadata": {
        "id": "F1NJ6JCQbKJ7",
        "colab": {
          "base_uri": "https://localhost:8080/",
          "height": 35
        },
        "outputId": "fe215058-4fa2-451c-cfff-ddd60197d9d8"
      },
      "execution_count": null,
      "outputs": [
        {
          "output_type": "execute_result",
          "data": {
            "text/plain": [
              "'Turkey'"
            ],
            "application/vnd.google.colaboratory.intrinsic+json": {
              "type": "string"
            }
          },
          "metadata": {},
          "execution_count": 34
        }
      ]
    },
    {
      "cell_type": "markdown",
      "source": [
        "## Dictionary Data Operation"
      ],
      "metadata": {
        "id": "Kfkq-SmIdJR6"
      }
    },
    {
      "cell_type": "markdown",
      "source": [
        "6. >  Follow the instructions below\n",
        "\n",
        "\n",
        "\n"
      ],
      "metadata": {
        "id": "WyJ8CJzdeMiS"
      }
    },
    {
      "cell_type": "code",
      "source": [
        "# Given the dictionary below\n",
        "\n",
        "customer={\n",
        "    \"name\":['Dio','Eka','Wayu','Riki'],\n",
        "    \"age\":[20,19,24,39],\n",
        "    \"gender\":[1,0,0,1],\n",
        "    \"membership\":['Platinum','Gold','Silver','Silver']\n",
        "}"
      ],
      "metadata": {
        "id": "fVHYIKLwdMfq"
      },
      "execution_count": null,
      "outputs": []
    },
    {
      "cell_type": "code",
      "source": [
        "# Print all keys in customer (Points : 5)\n",
        "\n",
        "print(customer.keys())"
      ],
      "metadata": {
        "id": "LpRVtz4_eJK5",
        "colab": {
          "base_uri": "https://localhost:8080/"
        },
        "outputId": "55b9feeb-a1f7-45c9-c89f-048ff35edf0b"
      },
      "execution_count": null,
      "outputs": [
        {
          "output_type": "stream",
          "name": "stdout",
          "text": [
            "dict_keys(['name', 'age', 'gender', 'membership'])\n"
          ]
        }
      ]
    },
    {
      "cell_type": "code",
      "source": [
        "# Print all customer names (Points : 5)\n",
        "\n",
        "print(customer[\"name\"])"
      ],
      "metadata": {
        "id": "QiEMM94FeYrz",
        "colab": {
          "base_uri": "https://localhost:8080/"
        },
        "outputId": "d4672f15-7bbf-4843-fcbf-b8428bc09f5f"
      },
      "execution_count": null,
      "outputs": [
        {
          "output_type": "stream",
          "name": "stdout",
          "text": [
            "['Dio', 'Eka', 'Wayu', 'Riki']\n"
          ]
        }
      ]
    },
    {
      "cell_type": "code",
      "source": [
        "# Print the first customer name (Points : 5)\n",
        "\n",
        "print(customer['name'][0])"
      ],
      "metadata": {
        "id": "P2SeErUGgQ-D",
        "colab": {
          "base_uri": "https://localhost:8080/"
        },
        "outputId": "8d9ea040-87bc-41e1-fd8e-2a801e5321ee"
      },
      "execution_count": null,
      "outputs": [
        {
          "output_type": "stream",
          "name": "stdout",
          "text": [
            "Dio\n"
          ]
        }
      ]
    },
    {
      "cell_type": "code",
      "source": [
        "# Drop \"age\" key from the dictionary (Points : 5)\n",
        "\n",
        "customer.pop(\"age\")\n",
        "print(customer)"
      ],
      "metadata": {
        "id": "c3PlmHxueiPy",
        "colab": {
          "base_uri": "https://localhost:8080/"
        },
        "outputId": "2a4fc553-25d1-480f-c1d5-0023a2e10f0a"
      },
      "execution_count": null,
      "outputs": [
        {
          "output_type": "stream",
          "name": "stdout",
          "text": [
            "{'name': ['Dio', 'Eka', 'Wayu', 'Riki'], 'gender': [1, 0, 0, 1], 'membership': ['Platinum', 'Gold', 'Silver', 'Silver']}\n"
          ]
        }
      ]
    },
    {
      "cell_type": "code",
      "source": [
        "#cek tipe data awal list value gender\n",
        "\n",
        "for z in range(len(customer[\"gender\"])):\n",
        "  print(z , \" is \", type(z))"
      ],
      "metadata": {
        "colab": {
          "base_uri": "https://localhost:8080/"
        },
        "id": "faSyVtwKEJ-C",
        "outputId": "b938740e-b7ec-408a-baf9-b997a28e1803"
      },
      "execution_count": null,
      "outputs": [
        {
          "output_type": "stream",
          "name": "stdout",
          "text": [
            "0  is  <class 'int'>\n",
            "1  is  <class 'int'>\n",
            "2  is  <class 'int'>\n",
            "3  is  <class 'int'>\n"
          ]
        }
      ]
    },
    {
      "cell_type": "code",
      "source": [
        "# Replace customer gender list value (Points : 20)\n",
        "# gender 1 => Male\n",
        "# gender 0 => Female \n",
        "\n",
        "#1. Ubah dulu isi dalam value yang berbentuk list integer menjadi list string\n",
        "customer[\"gender\"] = [str(a) for a in customer['gender']]\n",
        "\n",
        "#2. Ubah dengan If_Else\n",
        "for i in range(len(customer[\"gender\"])):\n",
        "  if (customer[\"gender\"][i] == '1') :\n",
        "     customer[\"gender\"][i] = \"Male\"\n",
        "  elif (customer[\"gender\"][i] == '0') :\n",
        "     customer[\"gender\"][i] = \"Female\"\n",
        "print(customer[\"gender\"])"
      ],
      "metadata": {
        "id": "FgXDh9mIea9x",
        "colab": {
          "base_uri": "https://localhost:8080/"
        },
        "outputId": "9361e156-9be8-4659-c8d0-9271f4541f0e"
      },
      "execution_count": null,
      "outputs": [
        {
          "output_type": "stream",
          "name": "stdout",
          "text": [
            "['Male', 'Female', 'Female', 'Male']\n"
          ]
        }
      ]
    },
    {
      "cell_type": "code",
      "source": [
        "print(customer)"
      ],
      "metadata": {
        "colab": {
          "base_uri": "https://localhost:8080/"
        },
        "id": "8iuuHehxNQM-",
        "outputId": "c7a111c5-74ce-4431-b21e-ef31ecef1303"
      },
      "execution_count": null,
      "outputs": [
        {
          "output_type": "stream",
          "name": "stdout",
          "text": [
            "{'name': ['Dio', 'Eka', 'Wayu', 'Riki'], 'gender': ['Male', 'Female', 'Female', 'Male'], 'membership': ['Platinum', 'Gold', 'Silver', 'Silver']}\n"
          ]
        }
      ]
    }
  ]
}
