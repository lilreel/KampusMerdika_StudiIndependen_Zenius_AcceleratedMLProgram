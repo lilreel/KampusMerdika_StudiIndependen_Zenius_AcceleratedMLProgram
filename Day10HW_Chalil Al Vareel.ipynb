{
 "cells": [
  {
   "cell_type": "markdown",
   "id": "9a9f0b4e-ccc4-4573-85fd-1723dfbe3735",
   "metadata": {
    "jp-MarkdownHeadingCollapsed": true,
    "tags": []
   },
   "source": [
    "# SOAL"
   ]
  },
  {
   "cell_type": "markdown",
   "id": "5815f196-329e-499d-87ad-3c50de9aa620",
   "metadata": {},
   "source": [
    "A company wants to run a new campaign to increase the transactions’ amount of its product. Before running the actual campaign to the whole customers, the company wants to know the campaign’s effectiveness in their 30 days transactions’ amount. The average of transactions’ amount before the campaign is $100. The company ran a testing on 20 customers and gathered their transactions’ amount in the next 30 days after the campaign. The data is stored in this table below. **Run a t-test analysis on the transactions’ amount average (with alpha = 5%).**"
   ]
  },
  {
   "attachments": {
    "02c112d7-ca96-475c-a4dd-24e511853c78.png": {
     "image/png": "[encoded data removed]"
    }
   },
   "cell_type": "markdown",
   "id": "e6725d21-38b0-4544-a6f0-98a757a5f20e",
   "metadata": {},
   "source": [
    "![image.png](attachment:02c112d7-ca96-475c-a4dd-24e511853c78.png)"
   ]
  },
  {
   "cell_type": "markdown",
   "id": "4d53c2f0-e02d-48f3-ae09-e7d7ccfcf251",
   "metadata": {
    "jp-MarkdownHeadingCollapsed": true,
    "tags": []
   },
   "source": [
    "# JAWAB"
   ]
  },
  {
   "cell_type": "markdown",
   "id": "cb299397-7bae-47ac-ac79-f1ea5c376987",
   "metadata": {
    "jp-MarkdownHeadingCollapsed": true,
    "tags": []
   },
   "source": [
    "## Define the task, Find T-Statistic and P-Value."
   ]
  },
  {
   "cell_type": "code",
   "execution_count": 28,
   "id": "120561dc-970a-4611-a07c-abf63e1f8e3a",
   "metadata": {},
   "outputs": [],
   "source": [
    "import numpy as np\n",
    "import scipy.stats as stats\n",
    "import pandas as pd"
   ]
  },
  {
   "cell_type": "code",
   "execution_count": 29,
   "id": "f108cfdc-a7b1-485e-a4eb-bc10945fc44d",
   "metadata": {},
   "outputs": [],
   "source": [
    "#Define\n",
    "\n",
    "H0 = 100\n",
    "alpha = 0.05\n",
    "data = [100, 150, 150, 120, 50, 50, 100, 100, 100, 130, 120, 140, 100, 90, 110, 150, 75, 50, 65, 90]\n",
    "customers = 20"
   ]
  },
  {
   "cell_type": "code",
   "execution_count": 30,
   "id": "50ab57a6-b7c6-4e6f-a0e0-e1f4d812e118",
   "metadata": {},
   "outputs": [
    {
     "data": {
      "text/plain": [
       "[100,\n",
       " 150,\n",
       " 150,\n",
       " 120,\n",
       " 50,\n",
       " 50,\n",
       " 100,\n",
       " 100,\n",
       " 100,\n",
       " 130,\n",
       " 120,\n",
       " 140,\n",
       " 100,\n",
       " 90,\n",
       " 110,\n",
       " 150,\n",
       " 75,\n",
       " 50,\n",
       " 65,\n",
       " 90]"
      ]
     },
     "execution_count": 30,
     "metadata": {},
     "output_type": "execute_result"
    }
   ],
   "source": [
    "data"
   ]
  },
  {
   "cell_type": "code",
   "execution_count": 31,
   "id": "0fc4f1e6-d486-43bb-85d0-8efef22c083d",
   "metadata": {},
   "outputs": [
    {
     "data": {
      "text/plain": [
       "Ttest_1sampResult(statistic=0.2731657711666385, pvalue=0.787672894169515)"
      ]
     },
     "execution_count": 31,
     "metadata": {},
     "output_type": "execute_result"
    }
   ],
   "source": [
    "#Find T-Statistic and P-Value\n",
    "\n",
    "stats.ttest_1samp(a=data, popmean=H0)"
   ]
  },
  {
   "cell_type": "markdown",
   "id": "3b0488c4-ae66-4cd4-8d95-b7929e9a9e6b",
   "metadata": {},
   "source": [
    "Now we found that _T-Statistic = 0.2731657711666385_ and _P-Value = 0.787672894169515_."
   ]
  },
  {
   "cell_type": "markdown",
   "id": "3a69a65a-8959-4687-8149-936667f14c23",
   "metadata": {
    "jp-MarkdownHeadingCollapsed": true,
    "tags": []
   },
   "source": [
    "## Two-Tailed Test"
   ]
  },
  {
   "cell_type": "markdown",
   "id": "8451f665-904e-4402-bb2b-f6bfe8fa1d41",
   "metadata": {},
   "source": [
    "First, we have to divide alpha by 2 and compare the value with P Value: \n",
    "1. If alpha/2 > P-Value, then H0 is rejected.\n",
    "2. If alpha/2 < P-Value, then H0 is not Rejected."
   ]
  },
  {
   "cell_type": "markdown",
   "id": "b5caa63d-aa9a-44b5-9ddb-a7a10203d052",
   "metadata": {},
   "source": [
    "_since the P-Value is larger than alpha/2, then we fail to reject the H0 which means that H0 is accepted._"
   ]
  },
  {
   "cell_type": "markdown",
   "id": "ca679727-fc42-4a0f-974c-23d4f6eb3fb1",
   "metadata": {},
   "source": [
    "Now let's find the **Critical Region**"
   ]
  },
  {
   "cell_type": "code",
   "execution_count": 32,
   "id": "9d8a6b98-d614-4c10-af69-472573db168c",
   "metadata": {},
   "outputs": [
    {
     "data": {
      "text/plain": [
       "2.093024054408263"
      ]
     },
     "execution_count": 32,
     "metadata": {},
     "output_type": "execute_result"
    }
   ],
   "source": [
    "stats.t.ppf(1-(alpha/2), customers-1)"
   ]
  },
  {
   "cell_type": "markdown",
   "id": "401e2ce1-5a05-461a-bd9e-077a72feae6f",
   "metadata": {
    "tags": []
   },
   "source": [
    "Critical Region: t < - 2.09 or t > 2.09. <br>\n",
    "T-Statistic : 0.2731657711666385. <br>\n",
    "As T-Statistic is not in the critical region, then we fail to reject H0. <br>\n",
    "**Conclusion: The mean (H1) is equal to 100.**"
   ]
  },
  {
   "cell_type": "markdown",
   "id": "b553ff8b-6f6c-4169-989f-788bf4184ecf",
   "metadata": {
    "jp-MarkdownHeadingCollapsed": true,
    "tags": []
   },
   "source": [
    "## One-Tailed Test"
   ]
  },
  {
   "cell_type": "markdown",
   "id": "342b89f3-266a-41e7-9dc7-54c2675afbd6",
   "metadata": {},
   "source": [
    "First, we divide P-Value by 2 and compare the value with alpha.\n",
    "1. If P-Value/2 > alpha, then H0 is not rejected.\n",
    "2. If P-Value/2 < alpha, then H0 is rejected."
   ]
  },
  {
   "cell_type": "markdown",
   "id": "1b72e033-5e2a-48c0-adba-5f4e797b0302",
   "metadata": {},
   "source": [
    "_since the P-Value/2 is larger than alpha, then we fail to reject the H0 which means that H0 is accepted._"
   ]
  },
  {
   "cell_type": "markdown",
   "id": "fd8371a5-a48e-4a74-9ab5-ed1aa98f5709",
   "metadata": {},
   "source": [
    "Now let's find the **Critical Region**"
   ]
  },
  {
   "cell_type": "code",
   "execution_count": 33,
   "id": "2c788c8f-ee54-409d-a771-c31a924c0487",
   "metadata": {},
   "outputs": [
    {
     "data": {
      "text/plain": [
       "1.729132811521367"
      ]
     },
     "execution_count": 33,
     "metadata": {},
     "output_type": "execute_result"
    }
   ],
   "source": [
    "# Left side\n",
    "stats.t.ppf(1-(alpha), customers-1)"
   ]
  },
  {
   "cell_type": "code",
   "execution_count": 34,
   "id": "ddfc512a-39dc-4a63-84b7-18338dd42e42",
   "metadata": {},
   "outputs": [
    {
     "data": {
      "text/plain": [
       "-1.7291328115213678"
      ]
     },
     "execution_count": 34,
     "metadata": {},
     "output_type": "execute_result"
    }
   ],
   "source": [
    "#Right Side\n",
    "stats.t.ppf(alpha, customers-1)"
   ]
  },
  {
   "cell_type": "markdown",
   "id": "60c5d968-7197-4d1e-ada7-2e21c90aae59",
   "metadata": {},
   "source": [
    "Critical Region: t > 1.729132811521367 or t < -1.729132811521367 <br>\n",
    "T-Statistic : 0.2731657711666385. <br>\n",
    "As T-Statistic is not in the critical region, then we fail to reject H0. <br>\n",
    "**Conclusion: The mean is (H1) equal to 100.**"
   ]
  },
  {
   "cell_type": "markdown",
   "id": "cdde44ea-d7dd-4e63-8ffd-4e9ee85242d5",
   "metadata": {
    "jp-MarkdownHeadingCollapsed": true,
    "tags": []
   },
   "source": [
    "## Visualization"
   ]
  },
  {
   "cell_type": "code",
   "execution_count": 35,
   "id": "299bb5be-0f60-4fd4-9458-aef21abb2318",
   "metadata": {},
   "outputs": [
    {
     "data": {
      "text/plain": [
       "<AxesSubplot:ylabel='Density'>"
      ]
     },
     "execution_count": 35,
     "metadata": {},
     "output_type": "execute_result"
    },
    {
     "data": {
      "image/png": "[encoded data removed]",
      "text/plain": [
       "<Figure size 432x288 with 1 Axes>"
      ]
     },
     "metadata": {
      "needs_background": "light"
     },
     "output_type": "display_data"
    }
   ],
   "source": [
    "import seaborn as sns \n",
    "x = stats.t(data)\n",
    "sns.kdeplot(data)"
   ]
  }
 ],
 "metadata": {
  "kernelspec": {
   "display_name": "Python 3 (ipykernel)",
   "language": "python",
   "name": "python3"
  },
  "language_info": {
   "codemirror_mode": {
    "name": "ipython",
    "version": 3
   },
   "file_extension": ".py",
   "mimetype": "text/x-python",
   "name": "python",
   "nbconvert_exporter": "python",
   "pygments_lexer": "ipython3",
   "version": "3.10.7"
  }
 },
 "nbformat": 4,
 "nbformat_minor": 5
}
