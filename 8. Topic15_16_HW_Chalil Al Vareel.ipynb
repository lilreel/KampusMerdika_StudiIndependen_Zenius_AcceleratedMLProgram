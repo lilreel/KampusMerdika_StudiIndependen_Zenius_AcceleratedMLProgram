{
  "cells": [
    {
      "cell_type": "markdown",
      "metadata": {
        "id": "view-in-github",
        "colab_type": "text"
      },
      "source": [
        "<a href=\"https://colab.research.google.com/github/lilreel/KampusMerdika_StudiIndependen_Zenius_AcceleratedMLProgram/blob/main/8.%20Topic15_16_HW_Chalil%20Al%20Vareel.ipynb\" target=\"_parent\"><img src=\"https://colab.research.google.com/assets/colab-badge.svg\" alt=\"Open In Colab\"/></a>"
      ]
    },
    {
      "cell_type": "markdown",
      "id": "1854e224",
      "metadata": {
        "id": "1854e224"
      },
      "source": [
        "## Unsupervised ML Python Homework"
      ]
    },
    {
      "cell_type": "code",
      "execution_count": 22,
      "id": "19e2e47b",
      "metadata": {
        "id": "19e2e47b"
      },
      "outputs": [],
      "source": [
        "import numpy as np\n",
        "import pandas as pd\n",
        "import sklearn\n",
        "import sys\n",
        "import warnings\n",
        "import os\n",
        "if not sys.warnoptions:\n",
        "    warnings.simplefilter(\"ignore\")\n",
        "    os.environ[\"PYTHONWARNINGS\"] = \"ignore\" \n",
        "\n",
        "import matplotlib.pyplot as plt\n",
        "import seaborn as sns\n",
        "import time\n",
        "\n",
        "\n",
        "from sklearn.decomposition import PCA\n",
        "\n",
        "import numpy as np\n",
        "import pandas as pd\n",
        "\n",
        "from sklearn.cluster import KMeans\n",
        "from sklearn.metrics import silhouette_samples, silhouette_score\n",
        "\n",
        "import matplotlib.pyplot as plt\n",
        "import matplotlib.cm as cm\n",
        "import seaborn as sns"
      ]
    },
    {
      "cell_type": "code",
      "source": [
        "import tensorflow as tf\n",
        "from tensorflow import keras"
      ],
      "metadata": {
        "id": "5rzYPbxT2rIh"
      },
      "id": "5rzYPbxT2rIh",
      "execution_count": 23,
      "outputs": []
    },
    {
      "cell_type": "code",
      "execution_count": 24,
      "id": "4ee45efc",
      "metadata": {
        "id": "4ee45efc"
      },
      "outputs": [],
      "source": [
        "data = pd.read_csv('https://raw.githubusercontent.com/lilreel/Datasets/main/_Miscellaneous/unsupervised_ml_homework_data.csv')"
      ]
    },
    {
      "cell_type": "markdown",
      "id": "5d57c5f6",
      "metadata": {
        "id": "5d57c5f6"
      },
      "source": [
        "### Soal 1: PCA"
      ]
    },
    {
      "cell_type": "markdown",
      "id": "814b4ae8",
      "metadata": {
        "id": "814b4ae8"
      },
      "source": [
        "Instruksi:\n",
        "1. Lakukan PCA pada data yang telah di-import di cell atas.\n",
        "2. Ketentuan PCA: Ambil sampai threshold explained variancenya 0.8 (80%)\n",
        "3. Berapa Principal Components yang diambil?\n",
        "4. Simpan data hasil PCA karena data hasil PCA ini akan digunakan di Soal 2: K-Means"
      ]
    },
    {
      "cell_type": "code",
      "execution_count": 25,
      "id": "96d64187",
      "metadata": {
        "id": "96d64187"
      },
      "outputs": [],
      "source": [
        "#Train Test Split\n",
        "from sklearn.model_selection import train_test_split\n",
        "\n",
        "X_train, X_test = train_test_split(data, test_size=0.2, random_state=25)  "
      ]
    },
    {
      "cell_type": "code",
      "source": [
        "X_train.shape"
      ],
      "metadata": {
        "colab": {
          "base_uri": "https://localhost:8080/"
        },
        "id": "7ifNQzJnK9YD",
        "outputId": "7b5a477a-2e2c-4483-8ca3-db20af225113"
      },
      "id": "7ifNQzJnK9YD",
      "execution_count": 26,
      "outputs": [
        {
          "output_type": "execute_result",
          "data": {
            "text/plain": [
              "(800, 20)"
            ]
          },
          "metadata": {},
          "execution_count": 26
        }
      ]
    },
    {
      "cell_type": "code",
      "source": [
        "from sklearn.decomposition import PCA\n",
        "pca_80 = PCA(0.8)\n",
        "\n",
        "start_time = time.time()\n",
        "pca_80.fit(X_train)\n",
        "x_train_pca_80 = pca_80.transform(X_train)\n",
        "x_test_pca_80 = pca_80.transform(X_test)\n",
        "finish_time = time.time()"
      ],
      "metadata": {
        "id": "Ulk4Rimn8-GI"
      },
      "id": "Ulk4Rimn8-GI",
      "execution_count": 27,
      "outputs": []
    },
    {
      "cell_type": "code",
      "source": [
        "print('PCA Fit and Transform finished in', finish_time - start_time, 'seconds.')\n",
        "print('setelah dlakukan PCA, feature columns yang tersisa hanya sebanyak ', pca_80.n_components_, '.')\n",
        "print('PCA berhasil mereduksi dataset sebanyak', (1-(pca_80.n_components_/20))*100, '%')"
      ],
      "metadata": {
        "colab": {
          "base_uri": "https://localhost:8080/"
        },
        "id": "6CCcm4jEWMbk",
        "outputId": "61fdeaf1-296c-4bc7-b3ad-a164934599fc"
      },
      "id": "6CCcm4jEWMbk",
      "execution_count": 28,
      "outputs": [
        {
          "output_type": "stream",
          "name": "stdout",
          "text": [
            "PCA Fit and Transform finished in 0.01620173454284668 seconds.\n",
            "setelah dlakukan PCA, feature columns yang tersisa hanya sebanyak  12 .\n",
            "PCA berhasil mereduksi dataset sebanyak 40.0 %\n"
          ]
        }
      ]
    },
    {
      "cell_type": "code",
      "source": [
        "pca_80.n_components_"
      ],
      "metadata": {
        "colab": {
          "base_uri": "https://localhost:8080/"
        },
        "id": "pXCOdPbKI9q8",
        "outputId": "b5559969-42d5-43e5-ff9b-202207fd951d"
      },
      "id": "pXCOdPbKI9q8",
      "execution_count": 29,
      "outputs": [
        {
          "output_type": "execute_result",
          "data": {
            "text/plain": [
              "12"
            ]
          },
          "metadata": {},
          "execution_count": 29
        }
      ]
    },
    {
      "cell_type": "markdown",
      "source": [
        "Untuk mencapai 80%, hanya membutuhkan 12 kolom."
      ],
      "metadata": {
        "id": "Jk1c5l3_ni79"
      },
      "id": "Jk1c5l3_ni79"
    },
    {
      "cell_type": "code",
      "source": [
        "#Visualisasi\n",
        "plt.plot(np.cumsum(pca_80.explained_variance_ratio_))\n",
        "plt.show()"
      ],
      "metadata": {
        "colab": {
          "base_uri": "https://localhost:8080/",
          "height": 265
        },
        "id": "w5FlQhaMI-ea",
        "outputId": "adbbf140-061d-4e7c-b8e4-dab0fb180309"
      },
      "id": "w5FlQhaMI-ea",
      "execution_count": 30,
      "outputs": [
        {
          "output_type": "display_data",
          "data": {
            "text/plain": [
              "<Figure size 432x288 with 1 Axes>"
            ],
            "image/png": "[encoded data removed]"
          },
          "metadata": {
            "needs_background": "light"
          }
        }
      ]
    },
    {
      "cell_type": "code",
      "source": [
        "x_test_pca_80.shape"
      ],
      "metadata": {
        "colab": {
          "base_uri": "https://localhost:8080/"
        },
        "id": "znfRuLqvJFYe",
        "outputId": "1fb2f052-8b01-42cd-b6ee-65494a02fc84"
      },
      "id": "znfRuLqvJFYe",
      "execution_count": 31,
      "outputs": [
        {
          "output_type": "execute_result",
          "data": {
            "text/plain": [
              "(200, 12)"
            ]
          },
          "metadata": {},
          "execution_count": 31
        }
      ]
    },
    {
      "cell_type": "code",
      "source": [
        "x_test_pca_80"
      ],
      "metadata": {
        "colab": {
          "base_uri": "https://localhost:8080/"
        },
        "id": "0cMHQTNhT7le",
        "outputId": "dc0e68e1-c570-4641-8ab6-5c5aa59d9cf3"
      },
      "id": "0cMHQTNhT7le",
      "execution_count": 32,
      "outputs": [
        {
          "output_type": "execute_result",
          "data": {
            "text/plain": [
              "array([[ -2.62289954,  26.1370018 ,   5.61549999, ...,  -7.79814974,\n",
              "          3.98079194,   0.20529211],\n",
              "       [-21.4678443 , -18.40319153,  12.30475527, ...,  -5.97658981,\n",
              "         -0.66215944,   3.69340609],\n",
              "       [-12.66941987,  25.90857891,   2.82629317, ...,   5.1644616 ,\n",
              "          6.21158953,   4.03103202],\n",
              "       ...,\n",
              "       [-15.20604079,  -9.69960088,  -4.41812184, ...,   1.56724817,\n",
              "         -4.34715496,  -0.11731791],\n",
              "       [-11.06075587,  17.71865897,   8.42229239, ...,  13.97459128,\n",
              "          0.32094829,   4.14169016],\n",
              "       [ 26.7271706 ,  -9.16585772,  -3.38558171, ...,   2.19577182,\n",
              "         -3.00875182,   4.99327136]])"
            ]
          },
          "metadata": {},
          "execution_count": 32
        }
      ]
    },
    {
      "cell_type": "code",
      "source": [
        "X_test.shape"
      ],
      "metadata": {
        "colab": {
          "base_uri": "https://localhost:8080/"
        },
        "id": "dfenkSpZJHlQ",
        "outputId": "f2440425-8d80-4cb3-8c71-25b5563600a3"
      },
      "id": "dfenkSpZJHlQ",
      "execution_count": 33,
      "outputs": [
        {
          "output_type": "execute_result",
          "data": {
            "text/plain": [
              "(200, 20)"
            ]
          },
          "metadata": {},
          "execution_count": 33
        }
      ]
    },
    {
      "cell_type": "code",
      "source": [
        "X_test"
      ],
      "metadata": {
        "colab": {
          "base_uri": "https://localhost:8080/",
          "height": 424
        },
        "id": "Amf37pbdT-0k",
        "outputId": "66d7c1ff-3cac-40ed-cf26-e552f7df4d3e"
      },
      "id": "Amf37pbdT-0k",
      "execution_count": 34,
      "outputs": [
        {
          "output_type": "execute_result",
          "data": {
            "text/plain": [
              "             0          1          2          3          4          5  \\\n",
              "688  -7.965024  19.048826  -8.745751  11.296358  -6.557901   0.672336   \n",
              "49   -3.493682  10.694086  12.239907   7.122669   0.417630   2.117950   \n",
              "288  -6.908521   5.739378  -3.018503   3.032788  -1.845323   5.184894   \n",
              "698  -7.950222  -4.700341   2.755615   7.049474 -10.147821   0.018544   \n",
              "775 -13.160300  -1.063255   5.283604  12.837788 -12.194439  -2.153346   \n",
              "..         ...        ...        ...        ...        ...        ...   \n",
              "410 -15.131790   0.951328  -7.532450  10.065150   9.078049  15.819595   \n",
              "344  -2.815820   6.392991   8.125947  12.016406  -7.790378   4.097098   \n",
              "135   2.566052  -1.756251   0.241192  18.621588  -3.694183  -6.710925   \n",
              "735  -1.175830   4.174099  -2.694755  12.806534  -2.562329   5.581669   \n",
              "591   4.655575 -13.086966  -1.119850 -11.627503   2.200656  -9.448252   \n",
              "\n",
              "             6         7          8          9         10         11  \\\n",
              "688   5.571777 -4.578438  -6.519767 -12.766993 -21.745316   7.216813   \n",
              "49    9.519600  0.978967  14.689210   7.881473   4.867649   1.670394   \n",
              "288  15.354084  6.058484  -9.486867 -20.373408 -10.671964  15.979038   \n",
              "698  16.945213 -7.830263   7.172357   9.186764   2.013741  -5.584002   \n",
              "775  12.764303  1.629498   5.591646  11.890306  13.535270 -10.046571   \n",
              "..         ...       ...        ...        ...        ...        ...   \n",
              "410   9.342442  0.354454   4.266571  -5.728855 -10.433408  12.158554   \n",
              "344  10.310291  0.123922   7.843136   5.783573   8.893663  -0.642162   \n",
              "135   7.850367  0.276866   7.534633   0.219965  10.711635  -4.188233   \n",
              "735   4.262966  6.878919   2.260970   6.948481 -10.243575   6.882969   \n",
              "591  -1.267642  0.069193  11.024809 -12.207083 -18.306018  -6.908335   \n",
              "\n",
              "            12         13         14         15         16        17  \\\n",
              "688   1.791675   3.708619   6.778238  -9.073045  -2.496228 -8.255972   \n",
              "49   -9.565965  -9.294443 -14.080992  -2.487612  18.978529 -2.656459   \n",
              "288  -1.590600 -14.895517  12.052134   3.232254   3.890036 -5.248845   \n",
              "698  -0.760595  -6.297685 -11.641042   1.289129  21.250042 -3.087780   \n",
              "775 -11.912578   3.609059 -17.290100  -3.516890  13.754386  5.055489   \n",
              "..         ...        ...        ...        ...        ...       ...   \n",
              "410   2.675178 -12.036166   4.173538  -6.842631   0.982506 -1.849012   \n",
              "344 -18.988032   2.042654   0.471212  -6.336538   7.770142  6.639956   \n",
              "135 -11.605495  -9.066394  -0.465847  -1.580881   9.374608  0.684252   \n",
              "735 -16.464479 -16.632642  14.864571 -13.924666  -6.820599 -8.995161   \n",
              "591   1.889697  -7.846324 -13.097148  -6.177715 -11.131658  6.802900   \n",
              "\n",
              "            18         19  \n",
              "688  11.234515   5.979724  \n",
              "49    3.499464   7.571104  \n",
              "288  17.679924  -1.294674  \n",
              "698   4.764411   7.497929  \n",
              "775   4.971333   6.278584  \n",
              "..         ...        ...  \n",
              "410  -4.822984   8.580849  \n",
              "344   6.058782  10.646308  \n",
              "135   4.318730  10.611280  \n",
              "735   3.278193   9.234773  \n",
              "591   1.714507  14.892153  \n",
              "\n",
              "[200 rows x 20 columns]"
            ],
            "text/html": [
              "\n",
              "  <div id=\"df-4221b61a-64d0-4d99-af44-d05b1fc7f29f\">\n",
              "    <div class=\"colab-df-container\">\n",
              "      <div>\n",
              "<style scoped>\n",
              "    .dataframe tbody tr th:only-of-type {\n",
              "        vertical-align: middle;\n",
              "    }\n",
              "\n",
              "    .dataframe tbody tr th {\n",
              "        vertical-align: top;\n",
              "    }\n",
              "\n",
              "    .dataframe thead th {\n",
              "        text-align: right;\n",
              "    }\n",
              "</style>\n",
              "<table border=\"1\" class=\"dataframe\">\n",
              "  <thead>\n",
              "    <tr style=\"text-align: right;\">\n",
              "      <th></th>\n",
              "      <th>0</th>\n",
              "      <th>1</th>\n",
              "      <th>2</th>\n",
              "      <th>3</th>\n",
              "      <th>4</th>\n",
              "      <th>5</th>\n",
              "      <th>6</th>\n",
              "      <th>7</th>\n",
              "      <th>8</th>\n",
              "      <th>9</th>\n",
              "      <th>10</th>\n",
              "      <th>11</th>\n",
              "      <th>12</th>\n",
              "      <th>13</th>\n",
              "      <th>14</th>\n",
              "      <th>15</th>\n",
              "      <th>16</th>\n",
              "      <th>17</th>\n",
              "      <th>18</th>\n",
              "      <th>19</th>\n",
              "    </tr>\n",
              "  </thead>\n",
              "  <tbody>\n",
              "    <tr>\n",
              "      <th>688</th>\n",
              "      <td>-7.965024</td>\n",
              "      <td>19.048826</td>\n",
              "      <td>-8.745751</td>\n",
              "      <td>11.296358</td>\n",
              "      <td>-6.557901</td>\n",
              "      <td>0.672336</td>\n",
              "      <td>5.571777</td>\n",
              "      <td>-4.578438</td>\n",
              "      <td>-6.519767</td>\n",
              "      <td>-12.766993</td>\n",
              "      <td>-21.745316</td>\n",
              "      <td>7.216813</td>\n",
              "      <td>1.791675</td>\n",
              "      <td>3.708619</td>\n",
              "      <td>6.778238</td>\n",
              "      <td>-9.073045</td>\n",
              "      <td>-2.496228</td>\n",
              "      <td>-8.255972</td>\n",
              "      <td>11.234515</td>\n",
              "      <td>5.979724</td>\n",
              "    </tr>\n",
              "    <tr>\n",
              "      <th>49</th>\n",
              "      <td>-3.493682</td>\n",
              "      <td>10.694086</td>\n",
              "      <td>12.239907</td>\n",
              "      <td>7.122669</td>\n",
              "      <td>0.417630</td>\n",
              "      <td>2.117950</td>\n",
              "      <td>9.519600</td>\n",
              "      <td>0.978967</td>\n",
              "      <td>14.689210</td>\n",
              "      <td>7.881473</td>\n",
              "      <td>4.867649</td>\n",
              "      <td>1.670394</td>\n",
              "      <td>-9.565965</td>\n",
              "      <td>-9.294443</td>\n",
              "      <td>-14.080992</td>\n",
              "      <td>-2.487612</td>\n",
              "      <td>18.978529</td>\n",
              "      <td>-2.656459</td>\n",
              "      <td>3.499464</td>\n",
              "      <td>7.571104</td>\n",
              "    </tr>\n",
              "    <tr>\n",
              "      <th>288</th>\n",
              "      <td>-6.908521</td>\n",
              "      <td>5.739378</td>\n",
              "      <td>-3.018503</td>\n",
              "      <td>3.032788</td>\n",
              "      <td>-1.845323</td>\n",
              "      <td>5.184894</td>\n",
              "      <td>15.354084</td>\n",
              "      <td>6.058484</td>\n",
              "      <td>-9.486867</td>\n",
              "      <td>-20.373408</td>\n",
              "      <td>-10.671964</td>\n",
              "      <td>15.979038</td>\n",
              "      <td>-1.590600</td>\n",
              "      <td>-14.895517</td>\n",
              "      <td>12.052134</td>\n",
              "      <td>3.232254</td>\n",
              "      <td>3.890036</td>\n",
              "      <td>-5.248845</td>\n",
              "      <td>17.679924</td>\n",
              "      <td>-1.294674</td>\n",
              "    </tr>\n",
              "    <tr>\n",
              "      <th>698</th>\n",
              "      <td>-7.950222</td>\n",
              "      <td>-4.700341</td>\n",
              "      <td>2.755615</td>\n",
              "      <td>7.049474</td>\n",
              "      <td>-10.147821</td>\n",
              "      <td>0.018544</td>\n",
              "      <td>16.945213</td>\n",
              "      <td>-7.830263</td>\n",
              "      <td>7.172357</td>\n",
              "      <td>9.186764</td>\n",
              "      <td>2.013741</td>\n",
              "      <td>-5.584002</td>\n",
              "      <td>-0.760595</td>\n",
              "      <td>-6.297685</td>\n",
              "      <td>-11.641042</td>\n",
              "      <td>1.289129</td>\n",
              "      <td>21.250042</td>\n",
              "      <td>-3.087780</td>\n",
              "      <td>4.764411</td>\n",
              "      <td>7.497929</td>\n",
              "    </tr>\n",
              "    <tr>\n",
              "      <th>775</th>\n",
              "      <td>-13.160300</td>\n",
              "      <td>-1.063255</td>\n",
              "      <td>5.283604</td>\n",
              "      <td>12.837788</td>\n",
              "      <td>-12.194439</td>\n",
              "      <td>-2.153346</td>\n",
              "      <td>12.764303</td>\n",
              "      <td>1.629498</td>\n",
              "      <td>5.591646</td>\n",
              "      <td>11.890306</td>\n",
              "      <td>13.535270</td>\n",
              "      <td>-10.046571</td>\n",
              "      <td>-11.912578</td>\n",
              "      <td>3.609059</td>\n",
              "      <td>-17.290100</td>\n",
              "      <td>-3.516890</td>\n",
              "      <td>13.754386</td>\n",
              "      <td>5.055489</td>\n",
              "      <td>4.971333</td>\n",
              "      <td>6.278584</td>\n",
              "    </tr>\n",
              "    <tr>\n",
              "      <th>...</th>\n",
              "      <td>...</td>\n",
              "      <td>...</td>\n",
              "      <td>...</td>\n",
              "      <td>...</td>\n",
              "      <td>...</td>\n",
              "      <td>...</td>\n",
              "      <td>...</td>\n",
              "      <td>...</td>\n",
              "      <td>...</td>\n",
              "      <td>...</td>\n",
              "      <td>...</td>\n",
              "      <td>...</td>\n",
              "      <td>...</td>\n",
              "      <td>...</td>\n",
              "      <td>...</td>\n",
              "      <td>...</td>\n",
              "      <td>...</td>\n",
              "      <td>...</td>\n",
              "      <td>...</td>\n",
              "      <td>...</td>\n",
              "    </tr>\n",
              "    <tr>\n",
              "      <th>410</th>\n",
              "      <td>-15.131790</td>\n",
              "      <td>0.951328</td>\n",
              "      <td>-7.532450</td>\n",
              "      <td>10.065150</td>\n",
              "      <td>9.078049</td>\n",
              "      <td>15.819595</td>\n",
              "      <td>9.342442</td>\n",
              "      <td>0.354454</td>\n",
              "      <td>4.266571</td>\n",
              "      <td>-5.728855</td>\n",
              "      <td>-10.433408</td>\n",
              "      <td>12.158554</td>\n",
              "      <td>2.675178</td>\n",
              "      <td>-12.036166</td>\n",
              "      <td>4.173538</td>\n",
              "      <td>-6.842631</td>\n",
              "      <td>0.982506</td>\n",
              "      <td>-1.849012</td>\n",
              "      <td>-4.822984</td>\n",
              "      <td>8.580849</td>\n",
              "    </tr>\n",
              "    <tr>\n",
              "      <th>344</th>\n",
              "      <td>-2.815820</td>\n",
              "      <td>6.392991</td>\n",
              "      <td>8.125947</td>\n",
              "      <td>12.016406</td>\n",
              "      <td>-7.790378</td>\n",
              "      <td>4.097098</td>\n",
              "      <td>10.310291</td>\n",
              "      <td>0.123922</td>\n",
              "      <td>7.843136</td>\n",
              "      <td>5.783573</td>\n",
              "      <td>8.893663</td>\n",
              "      <td>-0.642162</td>\n",
              "      <td>-18.988032</td>\n",
              "      <td>2.042654</td>\n",
              "      <td>0.471212</td>\n",
              "      <td>-6.336538</td>\n",
              "      <td>7.770142</td>\n",
              "      <td>6.639956</td>\n",
              "      <td>6.058782</td>\n",
              "      <td>10.646308</td>\n",
              "    </tr>\n",
              "    <tr>\n",
              "      <th>135</th>\n",
              "      <td>2.566052</td>\n",
              "      <td>-1.756251</td>\n",
              "      <td>0.241192</td>\n",
              "      <td>18.621588</td>\n",
              "      <td>-3.694183</td>\n",
              "      <td>-6.710925</td>\n",
              "      <td>7.850367</td>\n",
              "      <td>0.276866</td>\n",
              "      <td>7.534633</td>\n",
              "      <td>0.219965</td>\n",
              "      <td>10.711635</td>\n",
              "      <td>-4.188233</td>\n",
              "      <td>-11.605495</td>\n",
              "      <td>-9.066394</td>\n",
              "      <td>-0.465847</td>\n",
              "      <td>-1.580881</td>\n",
              "      <td>9.374608</td>\n",
              "      <td>0.684252</td>\n",
              "      <td>4.318730</td>\n",
              "      <td>10.611280</td>\n",
              "    </tr>\n",
              "    <tr>\n",
              "      <th>735</th>\n",
              "      <td>-1.175830</td>\n",
              "      <td>4.174099</td>\n",
              "      <td>-2.694755</td>\n",
              "      <td>12.806534</td>\n",
              "      <td>-2.562329</td>\n",
              "      <td>5.581669</td>\n",
              "      <td>4.262966</td>\n",
              "      <td>6.878919</td>\n",
              "      <td>2.260970</td>\n",
              "      <td>6.948481</td>\n",
              "      <td>-10.243575</td>\n",
              "      <td>6.882969</td>\n",
              "      <td>-16.464479</td>\n",
              "      <td>-16.632642</td>\n",
              "      <td>14.864571</td>\n",
              "      <td>-13.924666</td>\n",
              "      <td>-6.820599</td>\n",
              "      <td>-8.995161</td>\n",
              "      <td>3.278193</td>\n",
              "      <td>9.234773</td>\n",
              "    </tr>\n",
              "    <tr>\n",
              "      <th>591</th>\n",
              "      <td>4.655575</td>\n",
              "      <td>-13.086966</td>\n",
              "      <td>-1.119850</td>\n",
              "      <td>-11.627503</td>\n",
              "      <td>2.200656</td>\n",
              "      <td>-9.448252</td>\n",
              "      <td>-1.267642</td>\n",
              "      <td>0.069193</td>\n",
              "      <td>11.024809</td>\n",
              "      <td>-12.207083</td>\n",
              "      <td>-18.306018</td>\n",
              "      <td>-6.908335</td>\n",
              "      <td>1.889697</td>\n",
              "      <td>-7.846324</td>\n",
              "      <td>-13.097148</td>\n",
              "      <td>-6.177715</td>\n",
              "      <td>-11.131658</td>\n",
              "      <td>6.802900</td>\n",
              "      <td>1.714507</td>\n",
              "      <td>14.892153</td>\n",
              "    </tr>\n",
              "  </tbody>\n",
              "</table>\n",
              "<p>200 rows × 20 columns</p>\n",
              "</div>\n",
              "      <button class=\"colab-df-convert\" onclick=\"convertToInteractive('df-4221b61a-64d0-4d99-af44-d05b1fc7f29f')\"\n",
              "              title=\"Convert this dataframe to an interactive table.\"\n",
              "              style=\"display:none;\">\n",
              "        \n",
              "  <svg xmlns=\"http://www.w3.org/2000/svg\" height=\"24px\"viewBox=\"0 0 24 24\"\n",
              "       width=\"24px\">\n",
              "    <path d=\"M0 0h24v24H0V0z\" fill=\"none\"/>\n",
              "    <path d=\"M18.56 5.44l.94 2.06.94-2.06 2.06-.94-2.06-.94-.94-2.06-.94 2.06-2.06.94zm-11 1L8.5 8.5l.94-2.06 2.06-.94-2.06-.94L8.5 2.5l-.94 2.06-2.06.94zm10 10l.94 2.06.94-2.06 2.06-.94-2.06-.94-.94-2.06-.94 2.06-2.06.94z\"/><path d=\"M17.41 7.96l-1.37-1.37c-.4-.4-.92-.59-1.43-.59-.52 0-1.04.2-1.43.59L10.3 9.45l-7.72 7.72c-.78.78-.78 2.05 0 2.83L4 21.41c.39.39.9.59 1.41.59.51 0 1.02-.2 1.41-.59l7.78-7.78 2.81-2.81c.8-.78.8-2.07 0-2.86zM5.41 20L4 18.59l7.72-7.72 1.47 1.35L5.41 20z\"/>\n",
              "  </svg>\n",
              "      </button>\n",
              "      \n",
              "  <style>\n",
              "    .colab-df-container {\n",
              "      display:flex;\n",
              "      flex-wrap:wrap;\n",
              "      gap: 12px;\n",
              "    }\n",
              "\n",
              "    .colab-df-convert {\n",
              "      background-color: #E8F0FE;\n",
              "      border: none;\n",
              "      border-radius: 50%;\n",
              "      cursor: pointer;\n",
              "      display: none;\n",
              "      fill: #1967D2;\n",
              "      height: 32px;\n",
              "      padding: 0 0 0 0;\n",
              "      width: 32px;\n",
              "    }\n",
              "\n",
              "    .colab-df-convert:hover {\n",
              "      background-color: #E2EBFA;\n",
              "      box-shadow: 0px 1px 2px rgba(60, 64, 67, 0.3), 0px 1px 3px 1px rgba(60, 64, 67, 0.15);\n",
              "      fill: #174EA6;\n",
              "    }\n",
              "\n",
              "    [theme=dark] .colab-df-convert {\n",
              "      background-color: #3B4455;\n",
              "      fill: #D2E3FC;\n",
              "    }\n",
              "\n",
              "    [theme=dark] .colab-df-convert:hover {\n",
              "      background-color: #434B5C;\n",
              "      box-shadow: 0px 1px 3px 1px rgba(0, 0, 0, 0.15);\n",
              "      filter: drop-shadow(0px 1px 2px rgba(0, 0, 0, 0.3));\n",
              "      fill: #FFFFFF;\n",
              "    }\n",
              "  </style>\n",
              "\n",
              "      <script>\n",
              "        const buttonEl =\n",
              "          document.querySelector('#df-4221b61a-64d0-4d99-af44-d05b1fc7f29f button.colab-df-convert');\n",
              "        buttonEl.style.display =\n",
              "          google.colab.kernel.accessAllowed ? 'block' : 'none';\n",
              "\n",
              "        async function convertToInteractive(key) {\n",
              "          const element = document.querySelector('#df-4221b61a-64d0-4d99-af44-d05b1fc7f29f');\n",
              "          const dataTable =\n",
              "            await google.colab.kernel.invokeFunction('convertToInteractive',\n",
              "                                                     [key], {});\n",
              "          if (!dataTable) return;\n",
              "\n",
              "          const docLinkHtml = 'Like what you see? Visit the ' +\n",
              "            '<a target=\"_blank\" href=https://colab.research.google.com/notebooks/data_table.ipynb>data table notebook</a>'\n",
              "            + ' to learn more about interactive tables.';\n",
              "          element.innerHTML = '';\n",
              "          dataTable['output_type'] = 'display_data';\n",
              "          await google.colab.output.renderOutput(dataTable, element);\n",
              "          const docLink = document.createElement('div');\n",
              "          docLink.innerHTML = docLinkHtml;\n",
              "          element.appendChild(docLink);\n",
              "        }\n",
              "      </script>\n",
              "    </div>\n",
              "  </div>\n",
              "  "
            ]
          },
          "metadata": {},
          "execution_count": 34
        }
      ]
    },
    {
      "cell_type": "markdown",
      "id": "3811b3d1",
      "metadata": {
        "id": "3811b3d1"
      },
      "source": [
        "##### Jawab: Hasil PCA adalah mengambil 12 Principal Components. "
      ]
    },
    {
      "cell_type": "markdown",
      "id": "9d628c85",
      "metadata": {
        "id": "9d628c85"
      },
      "source": [
        "### Soal 2: K Means"
      ]
    },
    {
      "cell_type": "code",
      "source": [
        "import numpy as np\n",
        "import pandas as pd\n",
        "\n",
        "from sklearn.cluster import KMeans\n",
        "from sklearn.metrics import silhouette_samples, silhouette_score\n",
        "from sklearn.preprocessing import StandardScaler\n",
        "\n",
        "import matplotlib.pyplot as plt\n",
        "import matplotlib.cm as cm\n",
        "import seaborn as sns"
      ],
      "metadata": {
        "id": "Y110VXZvLgjE"
      },
      "id": "Y110VXZvLgjE",
      "execution_count": 35,
      "outputs": []
    },
    {
      "cell_type": "markdown",
      "id": "9e172fc0",
      "metadata": {
        "id": "9e172fc0"
      },
      "source": [
        "Instruksi:\n",
        "1. Dari data yang sudah di-PCA-kan (jadi datanya sudah baru ya, bukan data original lagi, ingat, data yang sudah di-PCA-kan), kita akan menentukan k = ?? yang paling ideal untuk clustering.\n",
        "2. Lakukan Elbow dan Silhouette method\n",
        "3. Visualisasikan hasil Elbow dan Silhouette method\n",
        "4. Berapa nilai k yang terbaik? "
      ]
    },
    {
      "cell_type": "code",
      "source": [
        "# Elbow Method\n",
        "score = []\n",
        "\n",
        "for cluster in range(1,11):\n",
        "    kmeans = KMeans(n_clusters = cluster)\n",
        "    scaled_data = StandardScaler().fit_transform(x_test_pca_80)\n",
        "    kmeans.fit(scaled_data)\n",
        "    score.append(kmeans.inertia_)\n",
        "\n",
        "plt.plot(range(1,11), score)\n",
        "plt.title('The Elbow Method')\n",
        "plt.xlabel('no of clusters')\n",
        "plt.ylabel('wcss')\n",
        "plt.show()"
      ],
      "metadata": {
        "id": "jwbLNjjvRzCx",
        "colab": {
          "base_uri": "https://localhost:8080/",
          "height": 295
        },
        "outputId": "c6565a50-4811-4581-9a5e-7c14bcaeded0"
      },
      "id": "jwbLNjjvRzCx",
      "execution_count": 36,
      "outputs": [
        {
          "output_type": "display_data",
          "data": {
            "text/plain": [
              "<Figure size 432x288 with 1 Axes>"
            ],
            "image/png": "[encoded data removed]"
          },
          "metadata": {
            "needs_background": "light"
          }
        }
      ]
    },
    {
      "cell_type": "code",
      "source": [
        "### Silhouette Score\n",
        "silhouette_coefficients = []\n",
        "from sklearn.metrics import silhouette_score\n",
        "\n",
        "for k in range(2, 11):\n",
        "    kmeans = KMeans(n_clusters=k)\n",
        "    scaled_data = StandardScaler().fit_transform(x_test_pca_80)\n",
        "    kmeans.fit(scaled_data)\n",
        "    score = silhouette_score(scaled_data, kmeans.labels_)\n",
        "    silhouette_coefficients.append(score)\n",
        "    \n",
        "plt.plot(range(2, 11), silhouette_coefficients)\n",
        "plt.xticks(range(2, 11))\n",
        "plt.xlabel(\"Number of Clusters\")\n",
        "plt.ylabel(\"Silhouette Coefficient\")\n",
        "plt.show()"
      ],
      "metadata": {
        "colab": {
          "base_uri": "https://localhost:8080/",
          "height": 279
        },
        "id": "Ne7yuaIzR3Gp",
        "outputId": "22ec080a-1eb1-43a1-983c-5fd54f6bc54a"
      },
      "id": "Ne7yuaIzR3Gp",
      "execution_count": 37,
      "outputs": [
        {
          "output_type": "display_data",
          "data": {
            "text/plain": [
              "<Figure size 432x288 with 1 Axes>"
            ],
            "image/png": "[encoded data removed]"
          },
          "metadata": {
            "needs_background": "light"
          }
        }
      ]
    },
    {
      "cell_type": "markdown",
      "id": "91faa167",
      "metadata": {
        "id": "91faa167"
      },
      "source": [
        "##### Jawab: Nilai k yang terbaik berdasarkan Elbow dan Silhouette method adalah...k = ??"
      ]
    },
    {
      "cell_type": "markdown",
      "source": [
        "k = 3"
      ],
      "metadata": {
        "id": "Z5cGPwzzn8Fk"
      },
      "id": "Z5cGPwzzn8Fk"
    }
  ],
  "metadata": {
    "kernelspec": {
      "display_name": "Python 3 (ipykernel)",
      "language": "python",
      "name": "python3"
    },
    "language_info": {
      "codemirror_mode": {
        "name": "ipython",
        "version": 3
      },
      "file_extension": ".py",
      "mimetype": "text/x-python",
      "name": "python",
      "nbconvert_exporter": "python",
      "pygments_lexer": "ipython3",
      "version": "3.10.7"
    },
    "colab": {
      "provenance": [],
      "collapsed_sections": [],
      "include_colab_link": true
    },
    "accelerator": "GPU",
    "gpuClass": "standard"
  },
  "nbformat": 4,
  "nbformat_minor": 5
}